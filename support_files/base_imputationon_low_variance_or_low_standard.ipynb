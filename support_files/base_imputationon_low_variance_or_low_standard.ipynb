{
 "cells": [
  {
   "cell_type": "markdown",
   "id": "73788c1d-d70c-49cd-99da-b3b6ad15a39f",
   "metadata": {},
   "source": [
    "## Base imputation on low variance or low standard?"
   ]
  },
  {
   "cell_type": "markdown",
   "id": "66fca94a-848d-4da4-bcb0-f79526dd1dda",
   "metadata": {},
   "source": [
    "When deciding whether to base imputation on low variance group or low standard deviation group, it's important to understand that variance and standard deviation are closely related measures of spread in a dataset. Variance is the average of the squared differences from the mean, while standard deviation is the square root of the variance. However, we still need to consider the nature of our data. If the data distribution is symmetric it would be better to use low variance. **However, in datasets with skewed distributions or significant outliers it would be better to use low standard deviation.**\n",
    "\n",
    "**Using Variance for Imputation**:\n",
    "- Basing imputation on low variance focuses on the squared differences from the mean, which gives more weight to larger differences. \n",
    "- Variance can help identify groups where the spread of prices around the mean is small, but because it's squared, extreme values have a more significant impact.\n",
    "\n",
    "**Using Standard Deviation for Imputation**:\n",
    "- Standard deviation, being in the same units as the data, may provide a more intuitive sense of variability within groups. \n",
    "- It can be more directly related to the mean or median price, providing a clearer picture of how dispersed the prices are around the central value.\n",
    "\n",
    "**Differences in Results**:\n",
    "- **Sensitivity to Extreme Values**: Variance might be more sensitive to outliers because it squares the differences from the mean, potentially leading to higher values for variance compared to what the standard deviation might suggest.\n",
    "- **Interpretability**: Decisions based on standard deviation might be easier to interpret and justify, especially when communicating with non-technical stakeholders, as it directly relates to the scale of the data.\n",
    "- **Outcome on Imputation**: The choice between variance and standard deviation might not lead to significant differences in which groups are considered low variability for the purpose of median imputation, especially if the data distribution is symmetric. However, in datasets with skewed distributions or significant outliers, the choice could impact the classification of groups as low or high variability.\n",
    "\n",
    "**Practical Considerations**:\n",
    "- **Consistency**: It's crucial to be consistent in the measure used to assess variability across your analysis.\n",
    "- **Data Characteristics**: Consider the nature of your data and the presence of outliers. Standard deviation might provide a more resilient approach in datasets where extreme values are meaningful and not just noise.\n",
    "\n",
    "In summary, while both measures can be used to assess variability within groups for the purpose of imputation, for our dataset standard deviation might offer a more intuitive and less outlier-sensitive approach. "
   ]
  }
 ],
 "metadata": {
  "kernelspec": {
   "display_name": "pandas",
   "language": "python",
   "name": "pandas"
  },
  "language_info": {
   "codemirror_mode": {
    "name": "ipython",
    "version": 3
   },
   "file_extension": ".py",
   "mimetype": "text/x-python",
   "name": "python",
   "nbconvert_exporter": "python",
   "pygments_lexer": "ipython3",
   "version": "3.10.8"
  }
 },
 "nbformat": 4,
 "nbformat_minor": 5
}
