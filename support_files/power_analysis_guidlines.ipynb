{
 "cells": [
  {
   "cell_type": "markdown",
   "id": "ae13bd42-ba13-4921-8886-c8184b14337d",
   "metadata": {
    "jp-MarkdownHeadingCollapsed": true
   },
   "source": [
    "## Why to do Power Analysis?"
   ]
  },
  {
   "cell_type": "markdown",
   "id": "00d59ccd-d040-4d03-a4cc-f0afb135959a",
   "metadata": {},
   "source": [
    "If the dataset has a significant number of outliers, and removing them would lead to a substantial reduction in sample size, affecting the analysis's reliability or statistical power. In practice, it's advisable to conduct a **power analysis before and after outlier removal** to assess the impact on your study's power. This analysis can guide whether outlier removal is appropriate or whether other methods should be considered to preserve statistical power."
   ]
  },
  {
   "cell_type": "markdown",
   "id": "9f0f5ea5-b66e-4f26-8a0d-7f2a1b7cde28",
   "metadata": {
    "jp-MarkdownHeadingCollapsed": true
   },
   "source": [
    "## The Guide how to do power analysis?"
   ]
  },
  {
   "cell_type": "markdown",
   "id": "4db62654-6e06-406b-9bee-e3f5c6773af0",
   "metadata": {},
   "source": [
    "To conduct a power analysis before and after removing outliers from your dataset, we need to define a specific statistical test and effect size we're interested in. Power analysis often revolves around hypothesis testing, where we might be comparing means, proportions, or other statistical measures between groups.\n",
    "\n",
    "For the sake of this analysis, let's assume we're interested in comparing the mean wine prices between two groups within your dataset (e.g., wines from two different countries or regions). We'll conduct a t-test for the means of two independent samples as our statistical test. The steps for the power analysis will include:\n",
    "\n",
    "1. **Calculate the effect size**: The effect size for a t-test can be calculated using the means and standard deviations of the two groups. We'll need to define these groups in your dataset.\n",
    "\n",
    "2. **Conduct power analysis before outlier removal**: Using the original dataset, we'll calculate the statistical power based on the effect size, sample size, and a standard significance level (usually 0.05).\n",
    "\n",
    "3. **Conduct power analysis after outlier removal**: After removing outliers, we'll recalculate the effect size with the adjusted dataset and then reassess the statistical power.\n",
    "\n",
    "4. **Compare the results**: We'll compare the power before and after outlier removal to assess the impact.\n",
    "\n",
    "Given the dataset and the general approach outlined above, we'll need to make some assumptions or have more specific information to proceed:\n",
    "\n",
    "- The definition of the two groups for comparison. (I take France and Italy)\n",
    "- The significance level (alpha) you're using (commonly set at 0.05).\n",
    "\n",
    "The guide on how to carry out this analysis using the general approach outlined:\n",
    "\n",
    "1. **Divide your data into two groups** for comparison. These could be based on a characteristic like country, region, or any other categorical variable of interest.\n",
    "\n",
    "2. **Calculate the mean and standard deviation for each group**, both before and after removing outliers.\n",
    "\n",
    "3. **Determine the effect size** using the means and standard deviations. One common measure for the t-test is Cohen's d, calculated as the difference between two means divided by the pooled standard deviation.\n",
    "\n",
    "4. **Use a power analysis tool** like the `TTestIndPower` class from the `statsmodels.stats.power` module. Provide the effect size, sample size, significance level (alpha, usually set to 0.05), and the number of groups to calculate the power.\n",
    "\n",
    "5. **Compare the power before and after outlier removal** to assess the impact on your study's statistical power.\n",
    "\n"
   ]
  },
  {
   "cell_type": "markdown",
   "id": "60912699-eeca-4719-ade3-2c3f8184b0c1",
   "metadata": {
    "jp-MarkdownHeadingCollapsed": true
   },
   "source": [
    "## Example of the code"
   ]
  },
  {
   "cell_type": "raw",
   "id": "728d36bd-fc50-4604-a915-504b5dcf329a",
   "metadata": {},
   "source": [
    "import pandas as pd\n",
    "from scipy.stats import ttest_ind\n",
    "from statsmodels.stats.power import TTestIndPower\n",
    "\n",
    "Group_A = \"France\"\n",
    "Group_B = \"Italy\"\n",
    "\n",
    "# Filter the dataset for wines from France and Italy\n",
    "france_wines = reviews[reviews['Country'] == Group_A]['Price']\n",
    "italy_wines = reviews[reviews['Country'] == Group_B]['Price']\n",
    "\n",
    "# Function to calculate Cohen's d effect size\n",
    "def calculate_cohens_d(group1, group2):\n",
    "    n1, n2 = len(group1), len(group2)\n",
    "    mean1, mean2 = group1.mean(), group2.mean()\n",
    "    var1, var2 = group1.var(), group2.var()\n",
    "    pooled_std = ((n1 - 1) * var1 + (n2 - 1) * var2) / (n1 + n2 - 2)\n",
    "    cohens_d = (mean1 - mean2) / (pooled_std ** 0.5)\n",
    "    return cohens_d\n",
    "\n",
    "# Calculate effect size before removing outliers\n",
    "effect_size_original = calculate_cohens_d(france_wines, italy_wines)\n",
    "\n",
    "#-------------------Removing Outliers-------------------------------\n",
    "# Assuming 'data' is your DataFrame and 'Price' is the column of interest\n",
    "Q1 = reviews['Price'].quantile(0.25)\n",
    "Q3 = reviews['Price'].quantile(0.75)\n",
    "IQR = Q3 - Q1\n",
    "\n",
    "lower_bound = Q1 - 1.5 * IQR\n",
    "upper_bound = Q3 + 1.5 * IQR\n",
    "\n",
    "# removing outliers\n",
    "filtered_data = reviews[(reviews['Price'] >= lower_bound) & (reviews['Price'] <= upper_bound)]\n",
    "#--------------------------------------------------------------------\n",
    "\n",
    "# Assuming you have already filtered out outliers and have a new dataframe 'filtered_data'\n",
    "# Filter the adjusted dataset for wines from France and Italy\n",
    "france_wines_filtered = filtered_data[filtered_data['Country'] == Group_A]['Price']\n",
    "italy_wines_filtered = filtered_data[filtered_data['Country'] == Group_B]['Price']\n",
    "\n",
    "# Calculate effect size after removing outliers\n",
    "effect_size_filtered = calculate_cohens_d(france_wines_filtered, italy_wines_filtered)\n",
    "\n",
    "# Power analysis\n",
    "analysis = TTestIndPower()\n",
    "alpha = 0.05  # Common significance level\n",
    "\n",
    "# Calculate power before and after removing outliers\n",
    "power_original = analysis.power(effect_size_original, len(france_wines), alpha, alternative='two-sided')\n",
    "power_filtered = analysis.power(effect_size_filtered, len(france_wines_filtered), alpha, alternative='two-sided')\n",
    "\n",
    "# Print the results\n",
    "print(f\"Effect Size (Original): {effect_size_original}\")\n",
    "print(f\"Power (Original): {power_original}\")\n",
    "print(f\"Effect Size (Filtered): {effect_size_filtered}\")\n",
    "print(f\"Power (Filtered): {power_filtered}\")"
   ]
  },
  {
   "cell_type": "raw",
   "id": "60ef9d37-afea-4207-a56f-767f8252d6db",
   "metadata": {},
   "source": [
    "Effect Size (Original): 0.12555468000844372\n",
    "Power (Original): 1.0\n",
    "Effect Size (Filtered): -0.08220113708054468\n",
    "Power (Filtered): 0.9997922094883822"
   ]
  },
  {
   "cell_type": "markdown",
   "id": "d3d0974c-97ca-4522-89b1-2858234dc18e",
   "metadata": {},
   "source": [
    "## The Guide to interpret the results"
   ]
  },
  {
   "cell_type": "markdown",
   "id": "2592e0ef-873d-465c-82c9-9d822479af01",
   "metadata": {},
   "source": [
    "The conclusion from such an analysis would depend on the observed change in power. A significant decrease in power after removing outliers might suggest that the removal has impacted your ability to detect meaningful effects in your data, indicating the need to reconsider the outlier treatment method. Conversely, if the power remains stable or improves, it might suggest that removing outliers has helped clarify the true effects present in your data."
   ]
  },
  {
   "cell_type": "markdown",
   "id": "123012a7-f9ed-42ac-99b7-35b32d66662b",
   "metadata": {},
   "source": [
    "The outline how you might interpret the results if the analysis were successfully completed:\n",
    "\n",
    "1. **Effect Size**: The effect size would quantify the difference in mean wine prices between France and Italy, taking into account their respective variances. A larger effect size indicates a more substantial difference between the two groups.\n",
    "\n",
    "2. **Power Before Removing Outliers**: The power of the original dataset would reflect the probability of detecting a true effect (if one exists) between French and Italian wine prices, considering all data points, including outliers.\n",
    "\n",
    "3. **Power After Removing Outliers**: The power of the dataset with outliers removed would show how the probability of detecting a true effect changes when extreme values are excluded. \n",
    "\n",
    "4. **Interpretation**:\n",
    "   - If the power significantly decreases after removing outliers, it could suggest that the removed data points contained valuable information for detecting differences between the two groups, and alternative methods to deal with outliers might be considered.\n",
    "   - If the power remains stable or increases, it could indicate that removing outliers helped clarify the true difference between French and Italian wines, reducing noise and making the effect more detectable.\n",
    "\n",
    "To perform this analysis, you would use statistical software or a programming environment that supports these calculations, following the steps outlined previously. If you're able to run Python code, you can use the provided snippets as a basis for your analysis."
   ]
  },
  {
   "cell_type": "markdown",
   "id": "1c4ac4f8-1389-4a17-9650-bb61b61e52c0",
   "metadata": {},
   "source": [
    "**What are the Effect Size thresholds and the Power thresholds at which removing outliers significantly compromises a study's statistical power:**\n",
    "\n",
    "The interpretation of effect size and power, and the thresholds at which removing outliers significantly compromises a study's statistical power, can vary based on the context of the study, the field of research, and specific research goals. However, some general guidelines can help in assessing these values:\n",
    "\n",
    "### Effect Size Thresholds\n",
    "\n",
    "Cohen's d is a common measure for effect size in comparing means between two groups. Cohen suggested the following conventions for interpreting d:\n",
    "\n",
    "- **Small effect size**: d ≈ 0.2\n",
    "- **Medium effect size**: d ≈ 0.5\n",
    "- **Large effect size**: d ≈ 0.8\n",
    "\n",
    "These are general guidelines, and the importance of an effect size can vary by field and context. In some fields, even a small effect size can be of great practical significance.\n",
    "\n",
    "### Power Thresholds\n",
    "\n",
    "Statistical power is the probability that a test will correctly reject a false null hypothesis (i.e., detect an effect if there is one). Common benchmarks for power are:\n",
    "\n",
    "- **Adequately powered study**: Power ≥ 0.8 (80%)\n",
    "- **Highly powered study**: Power > 0.9 (90%)\n",
    "\n",
    "A power of 0.8 means there's a 20% chance of a Type II error (failing to detect a true effect), which is considered acceptable in many research contexts. Higher power reduces the risk of Type II errors.\n",
    "\n",
    "### Impact of Removing Outliers\n",
    "\n",
    "- **Effect Size**: If removing outliers significantly changes the effect size (e.g., from medium to small or from small to negligible), this could indicate that the outliers are influencing the perceived magnitude of the effect. Whether this change is problematic depends on the importance of detecting small effects in your research.\n",
    "- **Power**: If the power of a study drops below the 0.8 threshold after removing outliers, especially if it started close to or above this benchmark, the removal of outliers might be considered to significantly compromise the study's ability to detect an effect. A drop in power signifies an increased risk of failing to detect a true effect.\n",
    "\n",
    "### Conclusion\n",
    "\n",
    "The significance of changes in effect size and power after removing outliers depends on the initial values and the context of the study. A significant drop in effect size or a power reduction below 80% could indicate that outlier removal has meaningfully impacted the study's findings and its ability to detect true effects. Researchers must weigh the benefits of a cleaner dataset (free from outliers) against the potential loss of power and the possible alteration of effect sizes. In some cases, alternative outlier management strategies, such as data transformation or robust statistical methods, might be preferable to direct removal."
   ]
  },
  {
   "cell_type": "code",
   "execution_count": null,
   "id": "6cf5fe88-4d26-4f76-a0a2-08473a0f01b7",
   "metadata": {},
   "outputs": [],
   "source": []
  }
 ],
 "metadata": {
  "kernelspec": {
   "display_name": "pandas",
   "language": "python",
   "name": "pandas"
  },
  "language_info": {
   "codemirror_mode": {
    "name": "ipython",
    "version": 3
   },
   "file_extension": ".py",
   "mimetype": "text/x-python",
   "name": "python",
   "nbconvert_exporter": "python",
   "pygments_lexer": "ipython3",
   "version": "3.10.8"
  }
 },
 "nbformat": 4,
 "nbformat_minor": 5
}
