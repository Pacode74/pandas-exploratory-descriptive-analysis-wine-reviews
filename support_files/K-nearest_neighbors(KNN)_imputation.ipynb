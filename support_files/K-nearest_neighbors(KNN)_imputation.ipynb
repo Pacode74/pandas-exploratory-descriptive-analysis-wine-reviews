{
 "cells": [
  {
   "cell_type": "markdown",
   "id": "df1e9183-7ef8-4238-89ec-3fc531d9628b",
   "metadata": {},
   "source": [
    "### What algorithm is used to fill out prices using KNN?"
   ]
  },
  {
   "cell_type": "markdown",
   "id": "ba82179d-d40f-48ab-9ea9-925b18454a4d",
   "metadata": {},
   "source": [
    "When filling out the missing \"Price\" values using KNN imputation with `n_neighbors=5`, the algorithm primarily relies on the concept of similarity between data points, determined by a distance metric such as Euclidean distance. The specific steps to impute a missing value are as follows:\n",
    "\n",
    "1. **Identify Neighbors**: For each data point with a missing \"Price\" value, the algorithm identifies the 5 nearest neighbors among the data points with known \"Price\" values. This identification is based on the distance calculated using the other features in the dataset.\n",
    "\n",
    "2. **Aggregate Neighbors' Values**: Once the 5 nearest neighbors are identified, the algorithm computes the missing \"Price\" value based on the \"Price\" values of these neighbors. The most common method for this aggregation is to take the mean of the neighbors' \"Price\" values.\n",
    "\n",
    "Hence, the algorithm used to fill out the prices is a KNN-based imputation algorithm that employs averaging the values of the nearest neighbors. This approach assumes that similar data points (based on other features) will have similar \"Price\" values, making it a suitable method for imputing missing numerical data in many cases."
   ]
  },
  {
   "cell_type": "markdown",
   "id": "8a418b61-c469-4dde-b149-88a81704b951",
   "metadata": {},
   "source": [
    "### What does it mean n-neighbors in KNN?"
   ]
  },
  {
   "cell_type": "markdown",
   "id": "ffaa665e-b3f4-41cd-8dbc-cac2f68ab209",
   "metadata": {},
   "source": [
    "In the context of K-nearest neighbors (KNN) imputation, setting `n_neighbors=5` means that the algorithm will use the 5 nearest neighbors to estimate the missing value for a given data point.\n",
    "\n",
    "The KNN algorithm works by finding a predefined number (in this case, 5) of training samples closest in distance to the new point and predict the label from these. The distance can be any metric measure such as Euclidean distance or Manhattan distance. When used for imputation, the KNN algorithm will look at the 5 closest points (neighbors) that have a value for the feature that is missing in the data point in question. It then imputes the missing value based on the values of these neighbors.\n",
    "\n",
    "For example, if you're trying to impute a missing price value in your dataset, the algorithm will find the 5 nearest neighbors based on the other features and calculate the missing price based on the prices of these neighbors. This could be a simple mean of the neighbors' values, or a weighted mean where closer neighbors have a greater influence on the imputed value."
   ]
  }
 ],
 "metadata": {
  "kernelspec": {
   "display_name": "pandas",
   "language": "python",
   "name": "pandas"
  },
  "language_info": {
   "codemirror_mode": {
    "name": "ipython",
    "version": 3
   },
   "file_extension": ".py",
   "mimetype": "text/x-python",
   "name": "python",
   "nbconvert_exporter": "python",
   "pygments_lexer": "ipython3",
   "version": "3.10.8"
  }
 },
 "nbformat": 4,
 "nbformat_minor": 5
}
